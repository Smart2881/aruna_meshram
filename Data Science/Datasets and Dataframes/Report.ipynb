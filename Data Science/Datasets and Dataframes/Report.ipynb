{
 "cells": [
  {
   "cell_type": "code",
   "execution_count": 2,
   "metadata": {
    "id": "h0LVvvnfJsg5"
   },
   "outputs": [],
   "source": [
    "# Import pandas\n",
    "import pandas as pd"
   ]
  },
  {
   "cell_type": "code",
   "execution_count": 3,
   "metadata": {
    "id": "rv2oLRnPK36J"
   },
   "outputs": [
    {
     "name": "stdout",
     "output_type": "stream",
     "text": [
      "<class 'pandas.core.frame.DataFrame'>\n",
      "RangeIndex: 400 entries, 0 to 399\n",
      "Data columns (total 11 columns):\n",
      " #   Column     Non-Null Count  Dtype  \n",
      "---  ------     --------------  -----  \n",
      " 0   Balance    400 non-null    float64\n",
      " 1   Income     400 non-null    float64\n",
      " 2   Limit      400 non-null    int64  \n",
      " 3   Rating     400 non-null    int64  \n",
      " 4   Cards      400 non-null    int64  \n",
      " 5   Age        400 non-null    int64  \n",
      " 6   Education  400 non-null    int64  \n",
      " 7   Gender     400 non-null    object \n",
      " 8   Student    400 non-null    object \n",
      " 9   Married    400 non-null    object \n",
      " 10  Ethnicity  400 non-null    object \n",
      "dtypes: float64(2), int64(5), object(4)\n",
      "memory usage: 34.5+ KB\n"
     ]
    }
   ],
   "source": [
    "# Create a DataFrame with balance.txt\n",
    "df = pd.read_csv('balance.txt',sep=' ')\n",
    "df.info()"
   ]
  },
  {
   "cell_type": "code",
   "execution_count": 4,
   "metadata": {},
   "outputs": [
    {
     "data": {
      "text/plain": [
       "Ethnicity\n",
       "African American    47.682101\n",
       "Asian               44.187833\n",
       "Caucasian           44.521945\n",
       "Name: Income, dtype: float64"
      ]
     },
     "execution_count": 4,
     "metadata": {},
     "output_type": "execute_result"
    }
   ],
   "source": [
    "# Compare the average income based on ethnicity\n",
    "df.groupby('Ethnicity')['Income'].mean()"
   ]
  },
  {
   "cell_type": "code",
   "execution_count": 5,
   "metadata": {},
   "outputs": [
    {
     "name": "stdout",
     "output_type": "stream",
     "text": [
      "Average balance of Singles : 13.49\n",
      "Average balance of Married : 13.39,\n",
      "Single people have higher mean balance: 13.49, than married people: 13.39\n"
     ]
    }
   ],
   "source": [
    "# Calculate on average, if married or single people have a higher balalnce\n",
    "married_bal = df[df['Married'] == 'Yes']\n",
    "single_bal = df[df['Married'] == 'No']\n",
    "married_bal_mean = round(married_bal['Balance'].mean(),2)\n",
    "single_bal_mean = round(single_bal['Balance'].mean(),2)\n",
    "\n",
    "print(f'Average balance of Singles : {single_bal_mean}')\n",
    "print(f'Average balance of Married : {married_bal_mean},')\n",
    "print(f'Single people have higher mean balance: {single_bal_mean}, than married people: {married_bal_mean}')\n"
   ]
  },
  {
   "cell_type": "code",
   "execution_count": 6,
   "metadata": {},
   "outputs": [
    {
     "name": "stdout",
     "output_type": "stream",
     "text": [
      "186.634\n"
     ]
    }
   ],
   "source": [
    "# Show highest income in the dataset\n",
    "highest_income = df.loc[:, \"Income\"].max()\n",
    "print(highest_income)"
   ]
  },
  {
   "cell_type": "code",
   "execution_count": 7,
   "metadata": {},
   "outputs": [
    {
     "name": "stdout",
     "output_type": "stream",
     "text": [
      "10.354\n"
     ]
    }
   ],
   "source": [
    "# Show lowest income in the dataset\n",
    "lowest_income = df.loc[:, \"Income\"].min()\n",
    "print(lowest_income)"
   ]
  },
  {
   "cell_type": "code",
   "execution_count": 8,
   "metadata": {},
   "outputs": [
    {
     "data": {
      "text/plain": [
       "1183"
      ]
     },
     "execution_count": 8,
     "metadata": {},
     "output_type": "execute_result"
    }
   ],
   "source": [
    "# Show total cards in the dataset\n",
    "df['Cards'].sum()"
   ]
  },
  {
   "cell_type": "code",
   "execution_count": 9,
   "metadata": {},
   "outputs": [
    {
     "name": "stdout",
     "output_type": "stream",
     "text": [
      "We have 207 females vs 193 males.\n"
     ]
    }
   ],
   "source": [
    "# Show total females vs total males in the dataset\n",
    "df.value_counts('Gender')\n",
    "female = df[df['Gender'] == 'Female'].shape[0]\n",
    "male = df[df['Gender'] == 'Male'].shape[0]\n",
    "print(f'We have {female} females vs {male} males.')"
   ]
  },
  {
   "cell_type": "markdown",
   "metadata": {},
   "source": [
    "Write the code needed to produce a report that provides the following information:\n",
    "* Compare the average income based on ethnicity.\n",
    "* On average, do married or single people have a higher balance?\n",
    "* What is the highest income in our dataset?\n",
    "* What is the lowest income in our dataset?\n",
    "* How many cards do we have recorded in our dataset? (Hint: use `sum()`)\n",
    "* How many females do we have information for vs how many males? (Hint: use `count()` for a list of all methods for computation of descriptive stats, explore the [pandas documentation](https://pandas.pydata.org/pandas-docs/stable/reference/frame.html#computations-descriptive-stats)).\n",
    "\n",
    "\n"
   ]
  }
 ],
 "metadata": {
  "colab": {
   "provenance": []
  },
  "kernelspec": {
   "display_name": "Python 3 (ipykernel)",
   "language": "python",
   "name": "python3"
  },
  "language_info": {
   "codemirror_mode": {
    "name": "ipython",
    "version": 3
   },
   "file_extension": ".py",
   "mimetype": "text/x-python",
   "name": "python",
   "nbconvert_exporter": "python",
   "pygments_lexer": "ipython3",
   "version": "3.12.2"
  }
 },
 "nbformat": 4,
 "nbformat_minor": 4
}
